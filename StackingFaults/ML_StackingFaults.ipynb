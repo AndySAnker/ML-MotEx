{
  "nbformat": 4,
  "nbformat_minor": 0,
  "metadata": {
    "colab": {
      "name": "ML-StackingFaults.ipynb",
      "provenance": [],
      "include_colab_link": true
    },
    "kernelspec": {
      "name": "python3",
      "display_name": "Python 3"
    },
    "language_info": {
      "name": "python"
    }
  },
  "cells": [
    {
      "cell_type": "markdown",
      "metadata": {
        "id": "view-in-github",
        "colab_type": "text"
      },
      "source": [
        "<a href=\"https://colab.research.google.com/github/AndySAnker/ML-MotEx/blob/main/StackingFaults/ML_StackingFaults.ipynb\" target=\"_parent\"><img src=\"https://colab.research.google.com/assets/colab-badge.svg\" alt=\"Open In Colab\"/></a>"
      ]
    },
    {
      "cell_type": "markdown",
      "source": [
        "# Welcome to ML-MotEx\n",
        "Github: https://github.com/AndySAnker/ML-MotEx/tree/main/StackingFaults\n",
        "\n",
        "Paper: Characterisation of intergrowth in metal oxide materials using structure-mining: the case of γ-MnO2\n",
        "\n",
        "Questions: andy@chem.ku.dk & nima@chem.ku.dk\n",
        "\n",
        "Use this script to use ML-MotEx to extract a stacking fault distribution from a dataset. This script does both handle fits made on Pair Distribution Function (PDF) data and Powder X-ray Diffraction (PXRD) data.\n",
        "\n",
        "The script first import packages and defines functions.\n",
        "\n",
        "Section 1: We import the stacking fault sequences, stacking probabilities, volume fraction of the parent structures and their Rwp values. The following figure illustrates the data format.\n",
        "\n",
        "![](https://github.com/AndySAnker/ML-MotEx/blob/main/StackingFaults/Images/Image1.png?raw=true)\n",
        "\n",
        "Note: In the case of the study of γ-MnO2 intergrowth, the asymmetric units sequence and stacking faults sequence are different. We have therefore added both to the training dataset. They may be the same, e.g. in the case of a layered system.\n",
        "\n",
        "Section 2: We train a gradient boosted decision tree to predict the Rwp value from the stacking fault sequences, stacking probabilities and volume fraction of the parent structures.\n",
        "\n",
        "Section 3: We plot the importance of the blocks, stacking probabilities and volume fraction of the parent structures and why they are important. Do the model like specific blocks?\n",
        "\n",
        "Section 4: We extract the information into two lists, \"rather be ramsdellite (R-MnO2)/pyrolusite (β-MnO2) block\". We calculate the stacking fault domains size distribution.\n",
        "\n",
        "# Import modules and set seed parameters"
      ],
      "metadata": {
        "id": "T11_1lqswfhy"
      }
    },
    {
      "cell_type": "code",
      "execution_count": 17,
      "metadata": {
        "id": "jFc0SvpzwVOs"
      },
      "outputs": [],
      "source": [
        "%%capture\n",
        "!pip install shap\n",
        "!git clone https://github.com/AndySAnker/ML-MotEx.git\n",
        "import numpy as np\n",
        "import pandas as pd\n",
        "import matplotlib.pyplot as plt\n",
        "import time, random, shap, sklearn, os\n",
        "import xgboost as xgb\n",
        "from sklearn.model_selection import train_test_split\n",
        "from sklearn.metrics import mean_squared_error\n",
        "random.seed(14)\n",
        "np.random.seed(14)\n",
        "os.chdir(\"ML-MotEx/StackingFaults\")"
      ]
    },
    {
      "cell_type": "markdown",
      "source": [
        "# Define functions"
      ],
      "metadata": {
        "id": "1_bEsFKNwph2"
      }
    },
    {
      "cell_type": "code",
      "source": [
        "def Train_XGBoost_XY(X_train, y_train, learning_rate, max_depth, n_estimators, n_jobs, gamma, min_child_weight, base_score, seed, xgb_model=None):\n",
        "    start_time = time.time()\n",
        "    model = xgb.XGBRegressor(learning_rate = learning_rate, max_depth=max_depth, n_estimators=n_estimators, n_jobs=n_jobs, gamma=gamma, min_child_weight=min_child_weight, base_score=base_score, random_state=seed)\n",
        "    model.fit(X_train, y_train, xgb_model=xgb_model)\n",
        "    print(\"Total execution time: %.3fs\"%(time.time()-start_time))\n",
        "    print (\"Training Succeeded\")\n",
        "    return model\n",
        "    \n",
        "def Validate_XGBoost(model, X_val, y_val):\n",
        "    print (\"Giving an estimate of the accuracy of the model\")\n",
        "    y_pred_val = model.predict(X_val)\n",
        "    rmse = np.sqrt(mean_squared_error(y_val, y_pred_val))\n",
        "    print(\"RMSE: %f\" % (rmse))\n",
        "    return rmse\n",
        "\n",
        "def shap_essential_figure(model, X_train):\n",
        "    plt.clf()\n",
        "    explainer = shap.TreeExplainer(model)\n",
        "    shap_values = explainer.shap_values(X_train) #to explain every prediction\n",
        "    shap.summary_plot(shap_values, X_train, feature_names=names[2:], max_display=20, show=False) # to plot these explanations\n",
        "    return explainer, shap_values"
      ],
      "metadata": {
        "id": "k-S189yBwptQ"
      },
      "execution_count": 18,
      "outputs": []
    },
    {
      "cell_type": "markdown",
      "source": [
        "# 1 Import data ready for machine learning"
      ],
      "metadata": {
        "id": "vEarwab-wudE"
      }
    },
    {
      "cell_type": "code",
      "source": [
        "fileName = \"Training_Data/info_Intergrowth_ML_XRD_Diamond2h.txt\"\n",
        "Layers = 250\n",
        "\n",
        "names = ['index', 'Rwp', 'Pb', 'Pr', 'percent_B', 'percent_R']+['Block_sequence'+str(i) for i in range(1, Layers+1)]+['Intergrowth_sequence'+str(i) for i in range(1, Layers+1)]\n",
        "data = pd.read_csv(fileName, names=names, delimiter=\" \") # Read data file\n",
        "data = data.drop(data.columns[-1],axis=1) # Drop the last column with NANS\n",
        "data = data.drop(data.columns[0],axis=1) # Drop index\n",
        "data = data.replace(['P','R'], [0, 1]) # 0 is P, 1 is R\n",
        "\n",
        "y = data['Rwp'] # Rwp is labels\n",
        "X = data.drop(data.columns[0], axis=1) # Drop labels\n",
        "\n",
        "X_train, X_val, y_train, y_val = train_test_split(X, y, test_size=0.2) # Split the data into training and validation set"
      ],
      "metadata": {
        "id": "Q_22ahqqwuwE"
      },
      "execution_count": 19,
      "outputs": []
    },
    {
      "cell_type": "markdown",
      "source": [
        "## Check that data is imported correct\n",
        "Check 1: Is the number of training data 4 times larger than validation data?\n",
        "\n",
        "Check 2: Print y_train and make sure it is the Rwp values of the fits.\n",
        "\n",
        "Check 3: Print X_train and make sure that the first 5 entries are index, Pb, Pr, percent_B, percent_R. The next should be Block_sequence0, Block_sequence1, etc... the last should be Intergrowth_sequence0, Intergrowth_sequence1, etc..."
      ],
      "metadata": {
        "id": "xDYr_9WLw1gj"
      }
    },
    {
      "cell_type": "code",
      "source": [
        "# Check 1\n",
        "print (\"Number of Training Data:\", len(X_train))\n",
        "print (\"Number of Validation Data:\", len(X_val))"
      ],
      "metadata": {
        "colab": {
          "base_uri": "https://localhost:8080/"
        },
        "id": "LG4_GhE0w1tx",
        "outputId": "6eb36a18-4b83-46db-c980-23949eda04d3"
      },
      "execution_count": 20,
      "outputs": [
        {
          "output_type": "stream",
          "name": "stdout",
          "text": [
            "Number of Training Data: 3960\n",
            "Number of Validation Data: 990\n"
          ]
        }
      ]
    },
    {
      "cell_type": "code",
      "source": [
        "# Check 2\n",
        "print (y_train.head())\n",
        "print ()\n",
        "print (\"Stastical information about the Rwp distribution\")\n",
        "print (y_train.describe())"
      ],
      "metadata": {
        "id": "MmVtY9srw5eU",
        "outputId": "d94d57b7-5bc1-4341-8d4d-cd359948db2f",
        "colab": {
          "base_uri": "https://localhost:8080/"
        }
      },
      "execution_count": 21,
      "outputs": [
        {
          "output_type": "stream",
          "name": "stdout",
          "text": [
            "634     15.24904\n",
            "2571    13.62155\n",
            "3372    13.99128\n",
            "1463    14.55927\n",
            "1486    18.56308\n",
            "Name: Rwp, dtype: float64\n",
            "\n",
            "Stastical information about the Rwp distribution\n",
            "count    3960.000000\n",
            "mean       16.058357\n",
            "std         2.434773\n",
            "min        12.214000\n",
            "25%        14.086435\n",
            "50%        15.619260\n",
            "75%        17.753375\n",
            "max        26.120980\n",
            "Name: Rwp, dtype: float64\n"
          ]
        }
      ]
    },
    {
      "cell_type": "code",
      "source": [
        "# Check 3\n",
        "X_train.head()"
      ],
      "metadata": {
        "id": "-37Fer86w8ER",
        "outputId": "5f3182f2-78a4-427f-c076-effe97c1244c",
        "colab": {
          "base_uri": "https://localhost:8080/",
          "height": 299
        }
      },
      "execution_count": 22,
      "outputs": [
        {
          "output_type": "execute_result",
          "data": {
            "text/plain": [
              "        Pb    Pr  percent_B  percent_R  Block_sequence1  Block_sequence2  \\\n",
              "634   0.13  0.84   0.155340   0.844660                1                2   \n",
              "2571  0.52  0.71   0.376623   0.623377                1                1   \n",
              "3372  0.68  0.72   0.466667   0.533333                1                1   \n",
              "1463  0.30  0.63   0.345794   0.654206                1                2   \n",
              "1486  0.30  0.86   0.166667   0.833333                1                1   \n",
              "\n",
              "      Block_sequence3  Block_sequence4  Block_sequence5  Block_sequence6  ...  \\\n",
              "634                 2                1                2                1  ...   \n",
              "2571                1                1                2                1  ...   \n",
              "3372                2                2                2                2  ...   \n",
              "1463                1                2                1                1  ...   \n",
              "1486                2                1                1                2  ...   \n",
              "\n",
              "      Intergrowth_sequence240  Intergrowth_sequence241  \\\n",
              "634                         1                        1   \n",
              "2571                        0                        1   \n",
              "3372                        1                        1   \n",
              "1463                        0                        1   \n",
              "1486                        1                        1   \n",
              "\n",
              "      Intergrowth_sequence242  Intergrowth_sequence243  \\\n",
              "634                         1                        0   \n",
              "2571                        1                        1   \n",
              "3372                        1                        1   \n",
              "1463                        0                        1   \n",
              "1486                        1                        1   \n",
              "\n",
              "      Intergrowth_sequence244  Intergrowth_sequence245  \\\n",
              "634                         1                        1   \n",
              "2571                        1                        1   \n",
              "3372                        1                        1   \n",
              "1463                        0                        1   \n",
              "1486                        1                        1   \n",
              "\n",
              "      Intergrowth_sequence246  Intergrowth_sequence247  \\\n",
              "634                         1                        1   \n",
              "2571                        0                        0   \n",
              "3372                        1                        1   \n",
              "1463                        1                        0   \n",
              "1486                        1                        1   \n",
              "\n",
              "      Intergrowth_sequence248  Intergrowth_sequence249  \n",
              "634                         1                        0  \n",
              "2571                        0                        0  \n",
              "3372                        1                        0  \n",
              "1463                        0                        1  \n",
              "1486                        1                        1  \n",
              "\n",
              "[5 rows x 503 columns]"
            ],
            "text/html": [
              "\n",
              "  <div id=\"df-b8c57c54-ead4-4aeb-be91-078995630696\">\n",
              "    <div class=\"colab-df-container\">\n",
              "      <div>\n",
              "<style scoped>\n",
              "    .dataframe tbody tr th:only-of-type {\n",
              "        vertical-align: middle;\n",
              "    }\n",
              "\n",
              "    .dataframe tbody tr th {\n",
              "        vertical-align: top;\n",
              "    }\n",
              "\n",
              "    .dataframe thead th {\n",
              "        text-align: right;\n",
              "    }\n",
              "</style>\n",
              "<table border=\"1\" class=\"dataframe\">\n",
              "  <thead>\n",
              "    <tr style=\"text-align: right;\">\n",
              "      <th></th>\n",
              "      <th>Pb</th>\n",
              "      <th>Pr</th>\n",
              "      <th>percent_B</th>\n",
              "      <th>percent_R</th>\n",
              "      <th>Block_sequence1</th>\n",
              "      <th>Block_sequence2</th>\n",
              "      <th>Block_sequence3</th>\n",
              "      <th>Block_sequence4</th>\n",
              "      <th>Block_sequence5</th>\n",
              "      <th>Block_sequence6</th>\n",
              "      <th>...</th>\n",
              "      <th>Intergrowth_sequence240</th>\n",
              "      <th>Intergrowth_sequence241</th>\n",
              "      <th>Intergrowth_sequence242</th>\n",
              "      <th>Intergrowth_sequence243</th>\n",
              "      <th>Intergrowth_sequence244</th>\n",
              "      <th>Intergrowth_sequence245</th>\n",
              "      <th>Intergrowth_sequence246</th>\n",
              "      <th>Intergrowth_sequence247</th>\n",
              "      <th>Intergrowth_sequence248</th>\n",
              "      <th>Intergrowth_sequence249</th>\n",
              "    </tr>\n",
              "  </thead>\n",
              "  <tbody>\n",
              "    <tr>\n",
              "      <th>634</th>\n",
              "      <td>0.13</td>\n",
              "      <td>0.84</td>\n",
              "      <td>0.155340</td>\n",
              "      <td>0.844660</td>\n",
              "      <td>1</td>\n",
              "      <td>2</td>\n",
              "      <td>2</td>\n",
              "      <td>1</td>\n",
              "      <td>2</td>\n",
              "      <td>1</td>\n",
              "      <td>...</td>\n",
              "      <td>1</td>\n",
              "      <td>1</td>\n",
              "      <td>1</td>\n",
              "      <td>0</td>\n",
              "      <td>1</td>\n",
              "      <td>1</td>\n",
              "      <td>1</td>\n",
              "      <td>1</td>\n",
              "      <td>1</td>\n",
              "      <td>0</td>\n",
              "    </tr>\n",
              "    <tr>\n",
              "      <th>2571</th>\n",
              "      <td>0.52</td>\n",
              "      <td>0.71</td>\n",
              "      <td>0.376623</td>\n",
              "      <td>0.623377</td>\n",
              "      <td>1</td>\n",
              "      <td>1</td>\n",
              "      <td>1</td>\n",
              "      <td>1</td>\n",
              "      <td>2</td>\n",
              "      <td>1</td>\n",
              "      <td>...</td>\n",
              "      <td>0</td>\n",
              "      <td>1</td>\n",
              "      <td>1</td>\n",
              "      <td>1</td>\n",
              "      <td>1</td>\n",
              "      <td>1</td>\n",
              "      <td>0</td>\n",
              "      <td>0</td>\n",
              "      <td>0</td>\n",
              "      <td>0</td>\n",
              "    </tr>\n",
              "    <tr>\n",
              "      <th>3372</th>\n",
              "      <td>0.68</td>\n",
              "      <td>0.72</td>\n",
              "      <td>0.466667</td>\n",
              "      <td>0.533333</td>\n",
              "      <td>1</td>\n",
              "      <td>1</td>\n",
              "      <td>2</td>\n",
              "      <td>2</td>\n",
              "      <td>2</td>\n",
              "      <td>2</td>\n",
              "      <td>...</td>\n",
              "      <td>1</td>\n",
              "      <td>1</td>\n",
              "      <td>1</td>\n",
              "      <td>1</td>\n",
              "      <td>1</td>\n",
              "      <td>1</td>\n",
              "      <td>1</td>\n",
              "      <td>1</td>\n",
              "      <td>1</td>\n",
              "      <td>0</td>\n",
              "    </tr>\n",
              "    <tr>\n",
              "      <th>1463</th>\n",
              "      <td>0.30</td>\n",
              "      <td>0.63</td>\n",
              "      <td>0.345794</td>\n",
              "      <td>0.654206</td>\n",
              "      <td>1</td>\n",
              "      <td>2</td>\n",
              "      <td>1</td>\n",
              "      <td>2</td>\n",
              "      <td>1</td>\n",
              "      <td>1</td>\n",
              "      <td>...</td>\n",
              "      <td>0</td>\n",
              "      <td>1</td>\n",
              "      <td>0</td>\n",
              "      <td>1</td>\n",
              "      <td>0</td>\n",
              "      <td>1</td>\n",
              "      <td>1</td>\n",
              "      <td>0</td>\n",
              "      <td>0</td>\n",
              "      <td>1</td>\n",
              "    </tr>\n",
              "    <tr>\n",
              "      <th>1486</th>\n",
              "      <td>0.30</td>\n",
              "      <td>0.86</td>\n",
              "      <td>0.166667</td>\n",
              "      <td>0.833333</td>\n",
              "      <td>1</td>\n",
              "      <td>1</td>\n",
              "      <td>2</td>\n",
              "      <td>1</td>\n",
              "      <td>1</td>\n",
              "      <td>2</td>\n",
              "      <td>...</td>\n",
              "      <td>1</td>\n",
              "      <td>1</td>\n",
              "      <td>1</td>\n",
              "      <td>1</td>\n",
              "      <td>1</td>\n",
              "      <td>1</td>\n",
              "      <td>1</td>\n",
              "      <td>1</td>\n",
              "      <td>1</td>\n",
              "      <td>1</td>\n",
              "    </tr>\n",
              "  </tbody>\n",
              "</table>\n",
              "<p>5 rows × 503 columns</p>\n",
              "</div>\n",
              "      <button class=\"colab-df-convert\" onclick=\"convertToInteractive('df-b8c57c54-ead4-4aeb-be91-078995630696')\"\n",
              "              title=\"Convert this dataframe to an interactive table.\"\n",
              "              style=\"display:none;\">\n",
              "        \n",
              "  <svg xmlns=\"http://www.w3.org/2000/svg\" height=\"24px\"viewBox=\"0 0 24 24\"\n",
              "       width=\"24px\">\n",
              "    <path d=\"M0 0h24v24H0V0z\" fill=\"none\"/>\n",
              "    <path d=\"M18.56 5.44l.94 2.06.94-2.06 2.06-.94-2.06-.94-.94-2.06-.94 2.06-2.06.94zm-11 1L8.5 8.5l.94-2.06 2.06-.94-2.06-.94L8.5 2.5l-.94 2.06-2.06.94zm10 10l.94 2.06.94-2.06 2.06-.94-2.06-.94-.94-2.06-.94 2.06-2.06.94z\"/><path d=\"M17.41 7.96l-1.37-1.37c-.4-.4-.92-.59-1.43-.59-.52 0-1.04.2-1.43.59L10.3 9.45l-7.72 7.72c-.78.78-.78 2.05 0 2.83L4 21.41c.39.39.9.59 1.41.59.51 0 1.02-.2 1.41-.59l7.78-7.78 2.81-2.81c.8-.78.8-2.07 0-2.86zM5.41 20L4 18.59l7.72-7.72 1.47 1.35L5.41 20z\"/>\n",
              "  </svg>\n",
              "      </button>\n",
              "      \n",
              "  <style>\n",
              "    .colab-df-container {\n",
              "      display:flex;\n",
              "      flex-wrap:wrap;\n",
              "      gap: 12px;\n",
              "    }\n",
              "\n",
              "    .colab-df-convert {\n",
              "      background-color: #E8F0FE;\n",
              "      border: none;\n",
              "      border-radius: 50%;\n",
              "      cursor: pointer;\n",
              "      display: none;\n",
              "      fill: #1967D2;\n",
              "      height: 32px;\n",
              "      padding: 0 0 0 0;\n",
              "      width: 32px;\n",
              "    }\n",
              "\n",
              "    .colab-df-convert:hover {\n",
              "      background-color: #E2EBFA;\n",
              "      box-shadow: 0px 1px 2px rgba(60, 64, 67, 0.3), 0px 1px 3px 1px rgba(60, 64, 67, 0.15);\n",
              "      fill: #174EA6;\n",
              "    }\n",
              "\n",
              "    [theme=dark] .colab-df-convert {\n",
              "      background-color: #3B4455;\n",
              "      fill: #D2E3FC;\n",
              "    }\n",
              "\n",
              "    [theme=dark] .colab-df-convert:hover {\n",
              "      background-color: #434B5C;\n",
              "      box-shadow: 0px 1px 3px 1px rgba(0, 0, 0, 0.15);\n",
              "      filter: drop-shadow(0px 1px 2px rgba(0, 0, 0, 0.3));\n",
              "      fill: #FFFFFF;\n",
              "    }\n",
              "  </style>\n",
              "\n",
              "      <script>\n",
              "        const buttonEl =\n",
              "          document.querySelector('#df-b8c57c54-ead4-4aeb-be91-078995630696 button.colab-df-convert');\n",
              "        buttonEl.style.display =\n",
              "          google.colab.kernel.accessAllowed ? 'block' : 'none';\n",
              "\n",
              "        async function convertToInteractive(key) {\n",
              "          const element = document.querySelector('#df-b8c57c54-ead4-4aeb-be91-078995630696');\n",
              "          const dataTable =\n",
              "            await google.colab.kernel.invokeFunction('convertToInteractive',\n",
              "                                                     [key], {});\n",
              "          if (!dataTable) return;\n",
              "\n",
              "          const docLinkHtml = 'Like what you see? Visit the ' +\n",
              "            '<a target=\"_blank\" href=https://colab.research.google.com/notebooks/data_table.ipynb>data table notebook</a>'\n",
              "            + ' to learn more about interactive tables.';\n",
              "          element.innerHTML = '';\n",
              "          dataTable['output_type'] = 'display_data';\n",
              "          await google.colab.output.renderOutput(dataTable, element);\n",
              "          const docLink = document.createElement('div');\n",
              "          docLink.innerHTML = docLinkHtml;\n",
              "          element.appendChild(docLink);\n",
              "        }\n",
              "      </script>\n",
              "    </div>\n",
              "  </div>\n",
              "  "
            ]
          },
          "metadata": {},
          "execution_count": 22
        }
      ]
    },
    {
      "cell_type": "markdown",
      "source": [
        "# 2 Train the gradient boosted decision tree algorithm\n",
        "The parameters can be changed in order to get the lowest possible root mean squared error (RMSE). Normally only learning rate and max_depth is changed. Max depth can only be changed as integers."
      ],
      "metadata": {
        "id": "_vdZ0b1IxARw"
      }
    },
    {
      "cell_type": "code",
      "source": [
        "lr = 0.25 # 0.1 is default - Boosting learning rate\n",
        "max_depth = 3 # 3 is default - Maximum tree depth for base learners.\n",
        "n_estimators = 100 # 100 is default - Number of trees to fit. \n",
        "n_jobs = 1 # 1 is default - Number of parallel threads used to run xgboost.\n",
        "gamma = 0 # 0 is default - Minimum loss reduction required to make a further partition on a leaf node of the tree.\n",
        "min_child_weight = 1 # 1 is default - Minimum sum of instance weight(hessian) needed in a child.\n",
        "base_score = 0.5 # 0.5 is default - The initial prediction score of all instances, global bias.\n",
        "random_state = 0 # 0 is default - seeding\n",
        "\n",
        "# Set up a ML algorithm based on the loaded permutations\n",
        "model = Train_XGBoost_XY(X_train, y_train, learning_rate=lr, max_depth=max_depth, n_estimators=n_estimators, n_jobs=n_jobs, gamma=gamma, min_child_weight=min_child_weight, base_score=base_score, seed=random_state)\n",
        "Validate_XGBoost(model, X_val, y_val)\n",
        "model.save_model(\"ML_algorithms/Stacking_faults_manual_model.dat\")"
      ],
      "metadata": {
        "id": "j9BnBTMmxAeQ",
        "outputId": "d05dc0c6-c74e-4e9d-eb09-37038ed419e6",
        "colab": {
          "base_uri": "https://localhost:8080/"
        }
      },
      "execution_count": 23,
      "outputs": [
        {
          "output_type": "stream",
          "name": "stdout",
          "text": [
            "[08:17:51] WARNING: /workspace/src/objective/regression_obj.cu:152: reg:linear is now deprecated in favor of reg:squarederror.\n",
            "Total execution time: 5.358s\n",
            "Training Succeeded\n",
            "Giving an estimate of the accuracy of the model\n",
            "RMSE: 0.909217\n"
          ]
        }
      ]
    },
    {
      "cell_type": "markdown",
      "source": [
        "# 3 Plot how important the features (atoms) are in the structure and why they are important"
      ],
      "metadata": {
        "id": "vdzC_Bk9xF86"
      }
    },
    {
      "cell_type": "code",
      "source": [
        "explainer, shap_values = shap_essential_figure(model, X_train.values)"
      ],
      "metadata": {
        "id": "JH_rc78KxGIP",
        "outputId": "1c07cbf0-27e8-4412-f421-be3d247ba2c3",
        "colab": {
          "base_uri": "https://localhost:8080/",
          "height": 693
        }
      },
      "execution_count": 24,
      "outputs": [
        {
          "output_type": "display_data",
          "data": {
            "text/plain": [
              "<Figure size 576x684 with 2 Axes>"
            ],
            "image/png": "[encoded data removed]"
          },
          "metadata": {
            "needs_background": "light"
          }
        }
      ]
    },
    {
      "cell_type": "markdown",
      "source": [
        "# 4 Block Sequence"
      ],
      "metadata": {
        "id": "bNRLBYvTxJzy"
      }
    },
    {
      "cell_type": "code",
      "source": [
        "# Calculate the layer contribution value for each layer\n",
        "Block_sequence_list = []\n",
        "for i in range(4, 4+1*Layers):\n",
        "    a_shap = np.sum((shap_values[np.where(X_train.values[:,i] == 2),i]))\n",
        "    b_shap = np.sum((shap_values[np.where(X_train.values[:,i] == 1),i]))\n",
        "    Block_sequence_list.append(a_shap - b_shap)\n",
        "\n",
        "lower_percentile = 0\n",
        "print (\"Best Sequences:\", np.where((np.array(Block_sequence_list) < lower_percentile) & (np.array(Block_sequence_list) < 0)))\n",
        "print (\"Worst Sequences:\", np.where((np.array(Block_sequence_list) > lower_percentile) & (np.array(Block_sequence_list) > 0)))\n",
        "\n",
        "count_b = 0\n",
        "count_g = 0\n",
        "count_r = 0\n",
        "for i in range(Layers-1):\n",
        "    if Block_sequence_list[i] == 0:\n",
        "        color = \"k\"\n",
        "        label = \"Does not Matter\"\n",
        "        plt.plot(i, 0, \"o\", color=color, markersize=10, label=label if count_b == 0 else \"_nolegend_\")\n",
        "        count_b += 1\n",
        "    elif Block_sequence_list[i] < lower_percentile:\n",
        "        color = \"g\"\n",
        "        label = \"Does like Layer B\"\n",
        "        plt.plot(i, 0, \"o\", color=color, markersize=10, label=label if count_g == 0 else \"_nolegend_\")\n",
        "        count_g += 1\n",
        "    elif Block_sequence_list[i] > lower_percentile:\n",
        "        color = \"r\"\n",
        "        label = \"Does like Layer A\"\n",
        "        plt.plot(i, 0, \"o\", color=color, markersize=10, label=label if count_r == 0 else \"_nolegend_\")\n",
        "        count_r += 1\n",
        "\n",
        "# Plot the results\n",
        "plt.yticks([], [])\n",
        "plt.legend()\n",
        "plt.title(\"Block_sequence\")\n",
        "plt.tight_layout()\n",
        "plt.show()"
      ],
      "metadata": {
        "id": "LlC2vMKYxJ_e",
        "outputId": "f068e895-b63b-46b1-b98d-803a466e779f",
        "colab": {
          "base_uri": "https://localhost:8080/",
          "height": 458
        }
      },
      "execution_count": null,
      "outputs": [
        {
          "output_type": "stream",
          "name": "stdout",
          "text": [
            "Best Sequences: (array([  1,   3,   6,   7,   8,  10,  11,  13,  14,  17,  19,  20,  23,\n",
            "        26,  28,  33,  36,  38,  40,  41,  44,  48,  59,  61,  64,  66,\n",
            "        67,  71,  72,  76,  80,  81,  83,  89,  96,  99, 102, 103, 104,\n",
            "       105, 109, 110, 116, 117, 122, 123, 124, 125, 127, 129, 139, 142,\n",
            "       144, 146, 148, 153, 161, 162, 163, 167, 169, 173, 175, 177, 179,\n",
            "       180, 184, 188, 190, 192, 195, 198, 199, 203, 207, 208, 210, 213,\n",
            "       216, 217, 220, 227, 228, 230, 233, 234, 236, 239, 240]),)\n",
            "Worst Sequences: (array([  4,  31,  46,  75,  77,  95, 101, 108, 112, 114, 130, 141, 165,\n",
            "       171, 176, 181, 185, 189, 204, 205, 232, 243, 248, 249]),)\n"
          ]
        },
        {
          "output_type": "display_data",
          "data": {
            "text/plain": [
              "<Figure size 432x288 with 1 Axes>"
            ],
            "image/png": "[encoded data removed]"
          },
          "metadata": {
            "needs_background": "light"
          }
        }
      ]
    },
    {
      "cell_type": "markdown",
      "source": [
        "# Intergrowth sequence"
      ],
      "metadata": {
        "id": "ecMWlyX3xOfT"
      }
    },
    {
      "cell_type": "code",
      "source": [
        "# Calculate the layer contribution value for each layer\n",
        "Intergrowth_sequence_list = []\n",
        "for i in range(4+Layers, 4+2*Layers-1):\n",
        "    b_shap = np.sum((shap_values[np.where(X_train.values[:,i] == 1),i]))\n",
        "    r_shap = np.sum((shap_values[np.where(X_train.values[:,i] == 0),i]))\n",
        "    Intergrowth_sequence_list.append(b_shap - r_shap)\n",
        "\n",
        "lower_percentile = 0\n",
        "Pyr_blocks = np.where((np.array(Intergrowth_sequence_list) > lower_percentile) & (np.array(Intergrowth_sequence_list) > 0))[0]\n",
        "Ram_blocks = np.where((np.array(Intergrowth_sequence_list) < lower_percentile) & (np.array(Intergrowth_sequence_list) < 0))[0]\n",
        "print (\"R-MnO2 sequences:\", Ram_blocks)\n",
        "print (\"B-MnO2 Sequences:\", Pyr_blocks)\n",
        "\n",
        "count_b = 0\n",
        "count_g = 0\n",
        "count_r = 0\n",
        "for i in range(Layers-1):\n",
        "    if Intergrowth_sequence_list[i] == 0:\n",
        "        color = \"k\"\n",
        "        label = \"Does not Matter\"\n",
        "        plt.plot(i, 0, \"o\", color=color, marker=\"s\", markersize=10, label=label if count_b == 0 else \"_nolegend_\")\n",
        "        count_b += 1\n",
        "    elif Intergrowth_sequence_list[i] < lower_percentile:\n",
        "        color = \"g\"\n",
        "        label = \"Does like R\"\n",
        "        plt.plot(i, 0, \"o\", color='dodgerblue', marker=\"s\", markersize=10, label=label if count_g == 0 else \"_nolegend_\")\n",
        "        count_g += 1\n",
        "    elif Intergrowth_sequence_list[i] > lower_percentile:\n",
        "        color = \"r\"\n",
        "        label = \"Does like b\"\n",
        "        plt.plot(i, 0, \"o\", color=color, marker=\"s\", markersize=10, label=label if count_r == 0 else \"_nolegend_\")\n",
        "        count_r += 1\n",
        "        \n",
        "# Plot the results\n",
        "plt.yticks([], [])\n",
        "plt.legend()\n",
        "plt.title(\"Intergrowth_sequence\")\n",
        "plt.tight_layout()\n",
        "plt.show()"
      ],
      "metadata": {
        "id": "7DgVLojzxOpb",
        "outputId": "eedc49d9-1a72-4cda-8cae-612e71d8be96",
        "colab": {
          "base_uri": "https://localhost:8080/",
          "height": 471
        }
      },
      "execution_count": 43,
      "outputs": [
        {
          "output_type": "stream",
          "name": "stdout",
          "text": [
            "R-MnO2 sequences: [ 10  12  19  24  31  33  34  39  42  46  54  59  60  61  68  70  72  73\n",
            "  78  80  82  83  86  87  90  93  94  98  99 101 104 105 106 107 110 112\n",
            " 113 115 117 118 119 120 121 123 126 127 130 132 133 134 137 138 139 140\n",
            " 141 143 145 152 158 160 162 163 166 168 171 175 178 180 182 183 186 188\n",
            " 192 193 198 199 200 201 204 206 209 211 216 217 221 222 225 226 229 230\n",
            " 231 233 234 237 239 242 243 244 246]\n",
            "B-MnO2 Sequences: [  1   2   4   6   7   9  11  20  21  23  28  32  36  37  40  41  43  51\n",
            "  53  58  64  65  66  79  81  84  85  88  92 100 108 116 122 124 125 128\n",
            " 131 146 147 153 154 155 167 169 172 174 176 184 197 202 203 207 210 212\n",
            " 214 220 224 228 240]\n"
          ]
        },
        {
          "output_type": "display_data",
          "data": {
            "text/plain": [
              "<Figure size 432x288 with 1 Axes>"
            ],
            "image/png": "[encoded data removed]"
          },
          "metadata": {
            "needs_background": "light"
          }
        }
      ]
    },
    {
      "cell_type": "markdown",
      "source": [
        "# Calculate the stacking fault distributions\n",
        "\n",
        "We only use the stacking faults sequence to calculate the domain size distributions."
      ],
      "metadata": {
        "id": "dcO6DmMnxTRZ"
      }
    },
    {
      "cell_type": "code",
      "source": [
        "largest_possible_domain = 20 # Define the largest possible domain we are searching for\n",
        "DSD_pyr = np.zeros(largest_possible_domain)        #Number of B-MnO2 domains of a given size\n",
        "DSD_ram = np.zeros(largest_possible_domain)        #Number of R-MnO2 domains of a given size\n",
        "x_array_pyr = np.array([i*0.44 for i in range(largest_possible_domain)])  #Calculate physical size of B-MnO2 domains (in nm)\n",
        "x_array_ram = np.array([i*0.466 for i in range(largest_possible_domain)]) #Calculate physical size of R-MnO2 domains (in nm)\n",
        "\n",
        "#Determines size of domains of B-MnO2 blocks, first in number of blocks, and then in physical size\n",
        "block = 1\n",
        "for i in range(len(Pyr_blocks)-1):\n",
        "    if Pyr_blocks[i+1] == Pyr_blocks[i]+1:\n",
        "        block += 1\n",
        "    else:\n",
        "        DSD_pyr[block+1] += 1\n",
        "        block = 1\n",
        "vol_pyr = np.sum(DSD_pyr * x_array_pyr)\n",
        "DSD_pyr_vol = DSD_pyr * x_array_pyr / vol_pyr\n",
        "\n",
        "#Determines size of domains of R-MnO2 blocks, first in number of blocks, and then in physical size    \n",
        "block = 1 \n",
        "for i in range(len(Ram_blocks)-1):\n",
        "    if Ram_blocks[i+1]==Ram_blocks[i]+1:\n",
        "        block +=1\n",
        "    else:\n",
        "        DSD_ram[block+1] += 1\n",
        "        block = 1\n",
        "vol_Ram = np.sum(DSD_ram * x_array_ram)\n",
        "DSD_ram_vol = DSD_ram * x_array_ram / vol_Ram\n",
        "\n",
        "# Plot the stacking fault domain size distributions\n",
        "plt.plot(x_array_pyr, DSD_pyr_vol, label='B-MnO2 domains size distribution')\n",
        "plt.plot(x_array_ram, DSD_ram_vol, label='R-MnO2 domains size distribution')\n",
        "plt.xlabel('Size (nm)')\n",
        "plt.ylabel('Frequency')\n",
        "plt.legend()\n",
        "plt.show()"
      ],
      "metadata": {
        "id": "WRlMt6yvxTxD",
        "outputId": "3cad4df1-8718-4dd8-e881-a87fb445a057",
        "colab": {
          "base_uri": "https://localhost:8080/",
          "height": 279
        }
      },
      "execution_count": 76,
      "outputs": [
        {
          "output_type": "display_data",
          "data": {
            "text/plain": [
              "<Figure size 432x288 with 1 Axes>"
            ],
            "image/png": "[encoded data removed]"
          },
          "metadata": {
            "needs_background": "light"
          }
        }
      ]
    },
    {
      "cell_type": "markdown",
      "source": [
        "# Cite\n",
        "If you use ML-MotEx to analyse the stacking fault distribution, please consider citing our papers. Thanks in advance!\n",
        "```\n",
        "@article{anker2022ML-MotEx,\n",
        "title={Extracting Structural Motifs from Pair Distribution Function Data of Nanostructures using Explainable Machine Learning},\n",
        "author={Andy S. Anker, Emil T. S. Kjær, Mikkel Juelsholt, Troels Lindahl Christiansen, Susanne Linn Skjærvø, Mads Ry Vogel Jørgensen, Innokenty Kantor, Daniel R. Sørensen, Simon J. L. Billinge, Raghavendra Selvan, Kirsten M. Ø. Jensen},\n",
        "year={2022}}\n",
        "```\n",
        "\n",
        "```\n",
        "@article{magnard2022Intergrowth,\n",
        "title={Characterisation of intergrowth in metal oxide materials using structure-mining: the case of γ-MnO2},\n",
        "author={Nicolas P. L. Magnard, Andy S. Anker, Andrea Kirsch, Kirsten M. Ø. Jensen},\n",
        "year={2022}}\n",
        "```\n",
        "\n",
        "# LICENSE\n",
        "This project is licensed under the Apache License Version 2.0, January 2004 - see the LICENSE file at https://github.com/AndySAnker/ML-MotEx/blob/main/LICENSE for details."
      ],
      "metadata": {
        "id": "sUpUz1VLzg_J"
      }
    },
    {
      "cell_type": "code",
      "source": [
        ""
      ],
      "metadata": {
        "id": "WMx2dzTO0mnw"
      },
      "execution_count": null,
      "outputs": []
    }
  ]
}