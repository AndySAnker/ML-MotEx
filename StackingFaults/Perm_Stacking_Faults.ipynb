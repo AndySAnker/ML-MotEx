{
 "cells": [
  {
   "cell_type": "markdown",
   "metadata": {},
   "source": [
    "# Welcome to ML-MotEx\n",
    "\n",
    "Github: https://github.com/AndySAnker/ML-MotEx/StackingFaults\n",
    "\n",
    "Paper: Characterisation of intergrowth in metal oxide materials using structure-mining: the case of γ-MnO2\n",
    "\n",
    "Questions: andy@chem.ku.dk & nima@chem.ku.dk\n",
    "\n",
    "Use this script to use ML-MotEx to extract a stacking fault distribution from a dataset. This script does both handle fits made on Pair Distribution Function (PDF) data and Powder X-ray Diffraction (PXRD) data.\n",
    "\n",
    "The script first import packages and defines functions.\n",
    "\n",
    "Section 1: We import the stacking fault sequences and their Rwp values\n",
    "\n",
    "Section 2: We train a gradient boosted decision tree to predict the Rwp value from the stacking fault sequence \n",
    "\n",
    "Section 3: We plot the importance of the layers and why they are important. Do the model like specific layers?\n",
    "\n",
    "Section 4: We extract the information in two lists, good atoms/bad layers. We calculate the stacking fault distribution."
   ]
  },
  {
   "cell_type": "markdown",
   "metadata": {},
   "source": [
    "# Import modules and set seed parameters"
   ]
  },
  {
   "cell_type": "code",
   "execution_count": 1,
   "metadata": {},
   "outputs": [],
   "source": [
    "import numpy as np\n",
    "import pandas as pd\n",
    "import matplotlib.pyplot as plt\n",
    "import time, random, shap, sklearn\n",
    "import xgboost as xgb\n",
    "from sklearn.model_selection import train_test_split\n",
    "from sklearn.metrics import mean_squared_error\n",
    "random.seed(14)\n",
    "np.random.seed(14)"
   ]
  },
  {
   "cell_type": "markdown",
   "metadata": {},
   "source": [
    "# Define functions"
   ]
  },
  {
   "cell_type": "code",
   "execution_count": 2,
   "metadata": {},
   "outputs": [],
   "source": [
    "def Train_XGBoost_XY(X_train, y_train, learning_rate, max_depth, n_estimators, n_jobs, gamma, min_child_weight, base_score, seed, xgb_model=None):\n",
    "    start_time = time.time()\n",
    "    model = xgb.XGBRegressor(learning_rate = learning_rate, max_depth=max_depth, n_estimators=n_estimators, n_jobs=n_jobs, gamma=gamma, min_child_weight=min_child_weight, base_score=base_score, random_state=seed)\n",
    "    model.fit(X_train, y_train, xgb_model=xgb_model)\n",
    "    print(\"Total execution time: %.3fs\"%(time.time()-start_time))\n",
    "    print (\"Training Succeeded\")\n",
    "    return model\n",
    "    \n",
    "def Validate_XGBoost(model, X_val, y_val):\n",
    "    print (\"Giving an estimate of the accuracy of the model\")\n",
    "    y_pred_val = model.predict(X_val)\n",
    "    rmse = np.sqrt(mean_squared_error(y_val, y_pred_val))\n",
    "    print(\"RMSE: %f\" % (rmse))\n",
    "    return rmse\n",
    "\n",
    "def shap_essential_figure(model, X_train):\n",
    "    plt.clf()\n",
    "    explainer = shap.TreeExplainer(model)\n",
    "    shap_values = explainer.shap_values(X_train) #to explain every prediction\n",
    "    shap.summary_plot(shap_values, X_train, feature_names=names[2:], max_display=20, show=False) # to plot these explanations\n",
    "    return explainer, shap_values\n"
   ]
  },
  {
   "cell_type": "markdown",
   "metadata": {},
   "source": [
    "# 1 Import data ready for machine learning"
   ]
  },
  {
   "cell_type": "code",
   "execution_count": 3,
   "metadata": {},
   "outputs": [],
   "source": [
    "fileName = \"Training_Data/info_Intergrowth_ML_XRD_Diamond2h.txt\"\n",
    "Layers = 250\n",
    "\n",
    "names = ['index', 'Rwp', 'Pb', 'Pr', 'percent_B', 'percent_R']+['Block_sequence'+str(i) for i in range(1, Layers+1)]+['Intergrowth_sequence'+str(i) for i in range(1, Layers+1)]\n",
    "data = pd.read_csv(fileName, names=names, delimiter=\" \") # Read data file\n",
    "data = data.drop(data.columns[-1],axis=1) # Drop the last column with NANS\n",
    "data = data.drop(data.columns[0],axis=1) # Drop index\n",
    "data = data.replace(['P','R'], [0, 1]) # 0 is P, 1 is R\n",
    "\n",
    "y = data['Rwp'] # Rwp is labels\n",
    "X = data.drop(data.columns[0], axis=1) # Drop labels\n",
    "\n",
    "X_train, X_val, y_train, y_val = train_test_split(X, y, test_size=0.2) # Split the data into training and validation set\n"
   ]
  },
  {
   "cell_type": "markdown",
   "metadata": {},
   "source": [
    "### Check that data is imported correct\n",
    "\n",
    "Check 1: Is the number of training data 4 times larger than validation data? \n",
    "\n",
    "Check 2: Print y_train and make sure it is the Rwp values of the fits.\n",
    "\n",
    "Check 3: Print X_train and make sure that the first 5 entries are index, Pb, Pr, percent_B, percent_R. The next should be Block_sequence0, Block_sequence1, etc... the last should be Intergrowth_sequence0, Intergrowth_sequence1, etc..."
   ]
  },
  {
   "cell_type": "code",
   "execution_count": 4,
   "metadata": {},
   "outputs": [
    {
     "name": "stdout",
     "output_type": "stream",
     "text": [
      "Number of Training Data: 3960\n",
      "Number of Validation Data: 990\n"
     ]
    }
   ],
   "source": [
    "# Check 1\n",
    "print (\"Number of Training Data:\", len(X_train))\n",
    "print (\"Number of Validation Data:\", len(X_val))"
   ]
  },
  {
   "cell_type": "code",
   "execution_count": 12,
   "metadata": {},
   "outputs": [
    {
     "name": "stdout",
     "output_type": "stream",
     "text": [
      "634     15.24904\n",
      "2571    13.62155\n",
      "3372    13.99128\n",
      "1463    14.55927\n",
      "1486    18.56308\n",
      "Name: Rwp, dtype: float64\n",
      "\n",
      "Stastical information about the Rwp distribution\n",
      "count    3960.000000\n",
      "mean       16.058357\n",
      "std         2.434773\n",
      "min        12.214000\n",
      "25%        14.086435\n",
      "50%        15.619260\n",
      "75%        17.753375\n",
      "max        26.120980\n",
      "Name: Rwp, dtype: float64\n"
     ]
    }
   ],
   "source": [
    "# Check 2\n",
    "print (y_train.head())\n",
    "print ()\n",
    "print (\"Stastical information about the Rwp distribution\")\n",
    "print (y_train.describe())"
   ]
  },
  {
   "cell_type": "code",
   "execution_count": 6,
   "metadata": {},
   "outputs": [
    {
     "data": {
      "text/html": [
       "<div>\n",
       "<style scoped>\n",
       "    .dataframe tbody tr th:only-of-type {\n",
       "        vertical-align: middle;\n",
       "    }\n",
       "\n",
       "    .dataframe tbody tr th {\n",
       "        vertical-align: top;\n",
       "    }\n",
       "\n",
       "    .dataframe thead th {\n",
       "        text-align: right;\n",
       "    }\n",
       "</style>\n",
       "<table border=\"1\" class=\"dataframe\">\n",
       "  <thead>\n",
       "    <tr style=\"text-align: right;\">\n",
       "      <th></th>\n",
       "      <th>Pb</th>\n",
       "      <th>Pr</th>\n",
       "      <th>percent_B</th>\n",
       "      <th>percent_R</th>\n",
       "      <th>Block_sequence1</th>\n",
       "      <th>Block_sequence2</th>\n",
       "      <th>Block_sequence3</th>\n",
       "      <th>Block_sequence4</th>\n",
       "      <th>Block_sequence5</th>\n",
       "      <th>Block_sequence6</th>\n",
       "      <th>...</th>\n",
       "      <th>Intergrowth_sequence240</th>\n",
       "      <th>Intergrowth_sequence241</th>\n",
       "      <th>Intergrowth_sequence242</th>\n",
       "      <th>Intergrowth_sequence243</th>\n",
       "      <th>Intergrowth_sequence244</th>\n",
       "      <th>Intergrowth_sequence245</th>\n",
       "      <th>Intergrowth_sequence246</th>\n",
       "      <th>Intergrowth_sequence247</th>\n",
       "      <th>Intergrowth_sequence248</th>\n",
       "      <th>Intergrowth_sequence249</th>\n",
       "    </tr>\n",
       "  </thead>\n",
       "  <tbody>\n",
       "    <tr>\n",
       "      <th>634</th>\n",
       "      <td>0.13</td>\n",
       "      <td>0.84</td>\n",
       "      <td>0.155340</td>\n",
       "      <td>0.844660</td>\n",
       "      <td>1</td>\n",
       "      <td>2</td>\n",
       "      <td>2</td>\n",
       "      <td>1</td>\n",
       "      <td>2</td>\n",
       "      <td>1</td>\n",
       "      <td>...</td>\n",
       "      <td>1</td>\n",
       "      <td>1</td>\n",
       "      <td>1</td>\n",
       "      <td>0</td>\n",
       "      <td>1</td>\n",
       "      <td>1</td>\n",
       "      <td>1</td>\n",
       "      <td>1</td>\n",
       "      <td>1</td>\n",
       "      <td>0</td>\n",
       "    </tr>\n",
       "    <tr>\n",
       "      <th>2571</th>\n",
       "      <td>0.52</td>\n",
       "      <td>0.71</td>\n",
       "      <td>0.376623</td>\n",
       "      <td>0.623377</td>\n",
       "      <td>1</td>\n",
       "      <td>1</td>\n",
       "      <td>1</td>\n",
       "      <td>1</td>\n",
       "      <td>2</td>\n",
       "      <td>1</td>\n",
       "      <td>...</td>\n",
       "      <td>0</td>\n",
       "      <td>1</td>\n",
       "      <td>1</td>\n",
       "      <td>1</td>\n",
       "      <td>1</td>\n",
       "      <td>1</td>\n",
       "      <td>0</td>\n",
       "      <td>0</td>\n",
       "      <td>0</td>\n",
       "      <td>0</td>\n",
       "    </tr>\n",
       "    <tr>\n",
       "      <th>3372</th>\n",
       "      <td>0.68</td>\n",
       "      <td>0.72</td>\n",
       "      <td>0.466667</td>\n",
       "      <td>0.533333</td>\n",
       "      <td>1</td>\n",
       "      <td>1</td>\n",
       "      <td>2</td>\n",
       "      <td>2</td>\n",
       "      <td>2</td>\n",
       "      <td>2</td>\n",
       "      <td>...</td>\n",
       "      <td>1</td>\n",
       "      <td>1</td>\n",
       "      <td>1</td>\n",
       "      <td>1</td>\n",
       "      <td>1</td>\n",
       "      <td>1</td>\n",
       "      <td>1</td>\n",
       "      <td>1</td>\n",
       "      <td>1</td>\n",
       "      <td>0</td>\n",
       "    </tr>\n",
       "    <tr>\n",
       "      <th>1463</th>\n",
       "      <td>0.30</td>\n",
       "      <td>0.63</td>\n",
       "      <td>0.345794</td>\n",
       "      <td>0.654206</td>\n",
       "      <td>1</td>\n",
       "      <td>2</td>\n",
       "      <td>1</td>\n",
       "      <td>2</td>\n",
       "      <td>1</td>\n",
       "      <td>1</td>\n",
       "      <td>...</td>\n",
       "      <td>0</td>\n",
       "      <td>1</td>\n",
       "      <td>0</td>\n",
       "      <td>1</td>\n",
       "      <td>0</td>\n",
       "      <td>1</td>\n",
       "      <td>1</td>\n",
       "      <td>0</td>\n",
       "      <td>0</td>\n",
       "      <td>1</td>\n",
       "    </tr>\n",
       "    <tr>\n",
       "      <th>1486</th>\n",
       "      <td>0.30</td>\n",
       "      <td>0.86</td>\n",
       "      <td>0.166667</td>\n",
       "      <td>0.833333</td>\n",
       "      <td>1</td>\n",
       "      <td>1</td>\n",
       "      <td>2</td>\n",
       "      <td>1</td>\n",
       "      <td>1</td>\n",
       "      <td>2</td>\n",
       "      <td>...</td>\n",
       "      <td>1</td>\n",
       "      <td>1</td>\n",
       "      <td>1</td>\n",
       "      <td>1</td>\n",
       "      <td>1</td>\n",
       "      <td>1</td>\n",
       "      <td>1</td>\n",
       "      <td>1</td>\n",
       "      <td>1</td>\n",
       "      <td>1</td>\n",
       "    </tr>\n",
       "  </tbody>\n",
       "</table>\n",
       "<p>5 rows × 503 columns</p>\n",
       "</div>"
      ],
      "text/plain": [
       "        Pb    Pr  percent_B  percent_R  Block_sequence1  Block_sequence2  \\\n",
       "634   0.13  0.84   0.155340   0.844660                1                2   \n",
       "2571  0.52  0.71   0.376623   0.623377                1                1   \n",
       "3372  0.68  0.72   0.466667   0.533333                1                1   \n",
       "1463  0.30  0.63   0.345794   0.654206                1                2   \n",
       "1486  0.30  0.86   0.166667   0.833333                1                1   \n",
       "\n",
       "      Block_sequence3  Block_sequence4  Block_sequence5  Block_sequence6  ...  \\\n",
       "634                 2                1                2                1  ...   \n",
       "2571                1                1                2                1  ...   \n",
       "3372                2                2                2                2  ...   \n",
       "1463                1                2                1                1  ...   \n",
       "1486                2                1                1                2  ...   \n",
       "\n",
       "      Intergrowth_sequence240  Intergrowth_sequence241  \\\n",
       "634                         1                        1   \n",
       "2571                        0                        1   \n",
       "3372                        1                        1   \n",
       "1463                        0                        1   \n",
       "1486                        1                        1   \n",
       "\n",
       "      Intergrowth_sequence242  Intergrowth_sequence243  \\\n",
       "634                         1                        0   \n",
       "2571                        1                        1   \n",
       "3372                        1                        1   \n",
       "1463                        0                        1   \n",
       "1486                        1                        1   \n",
       "\n",
       "      Intergrowth_sequence244  Intergrowth_sequence245  \\\n",
       "634                         1                        1   \n",
       "2571                        1                        1   \n",
       "3372                        1                        1   \n",
       "1463                        0                        1   \n",
       "1486                        1                        1   \n",
       "\n",
       "      Intergrowth_sequence246  Intergrowth_sequence247  \\\n",
       "634                         1                        1   \n",
       "2571                        0                        0   \n",
       "3372                        1                        1   \n",
       "1463                        1                        0   \n",
       "1486                        1                        1   \n",
       "\n",
       "      Intergrowth_sequence248  Intergrowth_sequence249  \n",
       "634                         1                        0  \n",
       "2571                        0                        0  \n",
       "3372                        1                        0  \n",
       "1463                        0                        1  \n",
       "1486                        1                        1  \n",
       "\n",
       "[5 rows x 503 columns]"
      ]
     },
     "execution_count": 6,
     "metadata": {},
     "output_type": "execute_result"
    }
   ],
   "source": [
    "# Check 3\n",
    "X_train.head()"
   ]
  },
  {
   "cell_type": "markdown",
   "metadata": {},
   "source": [
    "# 2 Train the gradient boosted decision tree algorithm\n",
    "\n",
    "The parameters  can be changed in order to get the lowest possible root mean squared error (RMSE). Normally only learning rate and max_depth is changed. Max depth can only be changed as integers."
   ]
  },
  {
   "cell_type": "code",
   "execution_count": 20,
   "metadata": {},
   "outputs": [
    {
     "name": "stdout",
     "output_type": "stream",
     "text": [
      "Total execution time: 16.506s\n",
      "Training Succeeded\n",
      "Giving an estimate of the accuracy of the model\n",
      "RMSE: 0.909217\n"
     ]
    }
   ],
   "source": [
    "lr = 0.25 # 0.1 is default - Boosting learning rate\n",
    "max_depth = 3 # 3 is default - Maximum tree depth for base learners.\n",
    "n_estimators = 100 # 100 is default - Number of trees to fit. \n",
    "n_jobs = 1 # 1 is default - Number of parallel threads used to run xgboost.\n",
    "gamma = 0 # 0 is default - Minimum loss reduction required to make a further partition on a leaf node of the tree.\n",
    "min_child_weight = 1 # 1 is default - Minimum sum of instance weight(hessian) needed in a child.\n",
    "base_score = 0.5 # 0.5 is default - The initial prediction score of all instances, global bias.\n",
    "random_state = 0 # 0 is default - seeding\n",
    "\n",
    "# Set up a ML algorithm based on the loaded permutations\n",
    "model = Train_XGBoost_XY(X_train, y_train, learning_rate=lr, max_depth=max_depth, n_estimators=n_estimators, n_jobs=n_jobs, gamma=gamma, min_child_weight=min_child_weight, base_score=base_score, seed=random_state)\n",
    "Validate_XGBoost(model, X_val, y_val)\n",
    "model.save_model(\"ML_algorithms/Stacking_faults_manual_model.dat\")\n"
   ]
  },
  {
   "cell_type": "markdown",
   "metadata": {},
   "source": [
    "# 3 Plot how important the features (atoms) are in the structure and why they are important"
   ]
  },
  {
   "cell_type": "code",
   "execution_count": 21,
   "metadata": {},
   "outputs": [
    {
     "data": {
      "image/png": "[encoded data removed]",
      "text/plain": [
       "<Figure size 576x684 with 2 Axes>"
      ]
     },
     "metadata": {
      "needs_background": "light"
     },
     "output_type": "display_data"
    }
   ],
   "source": [
    "explainer, shap_values = shap_essential_figure(model, X_train.values)"
   ]
  },
  {
   "cell_type": "markdown",
   "metadata": {},
   "source": [
    "# 4 Block Sequence"
   ]
  },
  {
   "cell_type": "code",
   "execution_count": 22,
   "metadata": {},
   "outputs": [
    {
     "name": "stdout",
     "output_type": "stream",
     "text": [
      "Best Sequences: (array([  1,   3,   6,   7,   8,  10,  11,  13,  14,  17,  19,  20,  23,\n",
      "        26,  28,  33,  36,  38,  40,  41,  44,  48,  59,  61,  64,  66,\n",
      "        67,  71,  72,  76,  80,  81,  83,  89,  96,  99, 102, 103, 104,\n",
      "       105, 109, 110, 116, 117, 122, 123, 124, 125, 127, 129, 139, 142,\n",
      "       144, 146, 148, 153, 161, 162, 163, 167, 169, 173, 175, 177, 179,\n",
      "       180, 184, 188, 190, 192, 195, 198, 199, 203, 207, 208, 210, 213,\n",
      "       216, 217, 220, 227, 228, 230, 233, 234, 236, 239, 240]),)\n",
      "Worst Sequences: (array([  4,  31,  46,  75,  77,  95, 101, 108, 112, 114, 130, 141, 165,\n",
      "       171, 176, 181, 185, 189, 204, 205, 232, 243, 248, 249]),)\n"
     ]
    },
    {
     "data": {
      "image/png": "[encoded data removed]",
      "text/plain": [
       "<Figure size 432x288 with 1 Axes>"
      ]
     },
     "metadata": {
      "needs_background": "light"
     },
     "output_type": "display_data"
    }
   ],
   "source": [
    "# Calculate the layer contribution value for each layer\n",
    "Block_sequence_list = []\n",
    "for i in range(4, 4+1*Layers):\n",
    "    keep_atoms = np.sum((shap_values[np.where(X_train.values[:,i] == 2),i]))\n",
    "    remove_atoms = np.sum((shap_values[np.where(X_train.values[:,i] == 1),i]))\n",
    "    Block_sequence_list.append(keep_atoms - remove_atoms)\n",
    "\n",
    "lower_percentile = 0\n",
    "print (\"Best Sequences:\", np.where((np.array(Block_sequence_list) < lower_percentile) & (np.array(Block_sequence_list) < 0)))\n",
    "print (\"Worst Sequences:\", np.where((np.array(Block_sequence_list) > lower_percentile) & (np.array(Block_sequence_list) > 0)))\n",
    "\n",
    "count_b = 0\n",
    "count_g = 0\n",
    "count_r = 0\n",
    "for i in range(Layers-1):\n",
    "    if Block_sequence_list[i] == 0:\n",
    "        color = \"k\"\n",
    "        label = \"Does not Matter\"\n",
    "        plt.plot(i, 0, \"o\", color=color, markersize=10, label=label if count_b == 0 else \"_nolegend_\")\n",
    "        count_b += 1\n",
    "    elif Block_sequence_list[i] < lower_percentile:\n",
    "        color = \"g\"\n",
    "        label = \"Does like Layer\"\n",
    "        plt.plot(i, 0, \"o\", color=color, markersize=10, label=label if count_g == 0 else \"_nolegend_\")\n",
    "        count_g += 1\n",
    "    elif Block_sequence_list[i] > lower_percentile:\n",
    "        color = \"r\"\n",
    "        label = \"Does not like Layer\"\n",
    "        plt.plot(i, 0, \"o\", color=color, markersize=10, label=label if count_r == 0 else \"_nolegend_\")\n",
    "        count_r += 1\n",
    "\n",
    "# Plot the results\n",
    "plt.yticks([], [])\n",
    "plt.legend()\n",
    "plt.title(\"Block_sequence\")\n",
    "plt.tight_layout()\n",
    "plt.show()\n"
   ]
  },
  {
   "cell_type": "markdown",
   "metadata": {},
   "source": [
    "# Intergrowth sequence"
   ]
  },
  {
   "cell_type": "code",
   "execution_count": 23,
   "metadata": {},
   "outputs": [
    {
     "name": "stdout",
     "output_type": "stream",
     "text": [
      "Best Sequences: (array([ 10,  12,  19,  24,  31,  33,  34,  39,  42,  46,  54,  59,  60,\n",
      "        61,  68,  70,  72,  73,  78,  80,  82,  83,  86,  87,  90,  93,\n",
      "        94,  98,  99, 101, 104, 105, 106, 107, 110, 112, 113, 115, 117,\n",
      "       118, 119, 120, 121, 123, 126, 127, 130, 132, 133, 134, 137, 138,\n",
      "       139, 140, 141, 143, 145, 152, 158, 160, 162, 163, 166, 168, 171,\n",
      "       175, 178, 180, 182, 183, 186, 188, 192, 193, 198, 199, 200, 201,\n",
      "       204, 206, 209, 211, 216, 217, 221, 222, 225, 226, 229, 230, 231,\n",
      "       233, 234, 237, 239, 242, 243, 244, 246]),)\n",
      "Worst Sequences: (array([  1,   2,   4,   6,   7,   9,  11,  20,  21,  23,  28,  32,  36,\n",
      "        37,  40,  41,  43,  51,  53,  58,  64,  65,  66,  79,  81,  84,\n",
      "        85,  88,  92, 100, 108, 116, 122, 124, 125, 128, 131, 146, 147,\n",
      "       153, 154, 155, 167, 169, 172, 174, 176, 184, 197, 202, 203, 207,\n",
      "       210, 212, 214, 220, 224, 228, 240]),)\n"
     ]
    },
    {
     "data": {
      "image/png": "[encoded data removed]",
      "text/plain": [
       "<Figure size 432x288 with 1 Axes>"
      ]
     },
     "metadata": {
      "needs_background": "light"
     },
     "output_type": "display_data"
    }
   ],
   "source": [
    "# Calculate the layer contribution value for each layer\n",
    "Intergrowth_sequence_list = []\n",
    "for i in range(4+Layers, 4+2*Layers-1):\n",
    "    keep_atoms = np.sum((shap_values[np.where(X_train.values[:,i] == 1),i]))\n",
    "    remove_atoms = np.sum((shap_values[np.where(X_train.values[:,i] == 0),i]))\n",
    "    Intergrowth_sequence_list.append(keep_atoms - remove_atoms)\n",
    "\n",
    "lower_percentile = 0\n",
    "print (\"Best Sequences:\", np.where((np.array(Intergrowth_sequence_list) < lower_percentile) & (np.array(Intergrowth_sequence_list) < 0)))\n",
    "print (\"Worst Sequences:\", np.where((np.array(Intergrowth_sequence_list) > lower_percentile) & (np.array(Intergrowth_sequence_list) > 0)))\n",
    "\n",
    "count_b = 0\n",
    "count_g = 0\n",
    "count_r = 0\n",
    "for i in range(Layers-1):\n",
    "    if Intergrowth_sequence_list[i] == 0:\n",
    "        color = \"k\"\n",
    "        label = \"Does not Matter\"\n",
    "        plt.plot(i, 0, \"o\", color=color, marker=\"s\", markersize=10, label=label if count_b == 0 else \"_nolegend_\")\n",
    "        count_b += 1\n",
    "    elif Intergrowth_sequence_list[i] < lower_percentile:\n",
    "        color = \"g\"\n",
    "        label = \"Does like R - Want to change Layer\"\n",
    "        plt.plot(i, 0, \"o\", color='dodgerblue', marker=\"s\", markersize=10, label=label if count_g == 0 else \"_nolegend_\")\n",
    "        count_g += 1\n",
    "    elif Intergrowth_sequence_list[i] > lower_percentile:\n",
    "        color = \"r\"\n",
    "        label = \"Does not like R - Do not want to change Layer\"\n",
    "        plt.plot(i, 0, \"o\", color=color, marker=\"s\", markersize=10, label=label if count_r == 0 else \"_nolegend_\")\n",
    "        count_r += 1\n",
    "        \n",
    "# Plot the results\n",
    "plt.yticks([], [])\n",
    "plt.legend()\n",
    "plt.title(\"Intergrowth_sequence\")\n",
    "plt.tight_layout()\n",
    "plt.show()\n"
   ]
  },
  {
   "cell_type": "markdown",
   "metadata": {},
   "source": [
    "# Calculate the stacking fault distributions"
   ]
  },
  {
   "cell_type": "code",
   "execution_count": 24,
   "metadata": {},
   "outputs": [
    {
     "name": "stdout",
     "output_type": "stream",
     "text": [
      "[1, 2, 4, 6, 7, 9, 11, 20, 21, 23, 28, 32, 36, 37, 40, 41, 43, 51, 53, 58, 64, 65, 66, 79, 81, 84, 85, 88, 92, 100, 108, 116, 122, 124, 125, 128, 131, 146, 147, 153, 154, 155, 167, 169, 172, 174, 176, 184, 197, 202, 203, 207, 210, 212, 214, 220, 224, 228, 240]\n",
      "[0.   0.44 0.88 1.32 1.76 2.2  2.64 3.08 3.52 3.96 4.4  4.84 5.28 5.72\n",
      " 6.16 6.6  7.04 7.48 7.92 8.36]\n",
      "[0.         0.         0.47798742 0.28301887 0.10062893 0.06289308\n",
      " 0.0754717  0.         0.         0.         0.         0.\n",
      " 0.         0.         0.         0.         0.         0.\n",
      " 0.         0.        ]\n"
     ]
    },
    {
     "data": {
      "image/png": "[encoded data removed]",
      "text/plain": [
       "<Figure size 432x288 with 1 Axes>"
      ]
     },
     "metadata": {
      "needs_background": "light"
     },
     "output_type": "display_data"
    }
   ],
   "source": [
    "Pyr_blocks = []\n",
    "Ram_blocks = []\n",
    "for i in range(len(Intergrowth_sequence_list)):\n",
    "    if Intergrowth_sequence_list[i]>lower_percentile:\n",
    "        Pyr_blocks.append(i)\n",
    "    if Intergrowth_sequence_list[i]<lower_percentile:\n",
    "        Ram_blocks.append(i)\n",
    "print(Pyr_blocks)\n",
    "list_DSD_pyr = np.zeros(20)        #plot number of domains of a given size\n",
    "list_DSD_pyr_freq = np.zeros(20)   #plot frequence of domains with a given size\n",
    "list_DSD_pyr_vol = np.zeros(20)    #plot frequence of domain related to size\n",
    "list_DSD_ram = np.zeros(20)\n",
    "list_DSD_ram_freq = np.zeros(20)\n",
    "list_DSD_ram_vol = np.zeros(20)\n",
    "block_arr = np.linspace(0, 19, 20)\n",
    "x_array_pyr = np.array([i*0.44 for i in range(0, 20)]) \n",
    "x_array_ram = np.array([i*0.466 for i in range(0, 20)]) \n",
    "\n",
    "i=0\n",
    "block = 1\n",
    "freq_Pyr=0\n",
    "vol_Pyr=0\n",
    "while i<len(Pyr_blocks)-1:\n",
    "    if Pyr_blocks[i+1]==Pyr_blocks[i]+1:\n",
    "        block +=1\n",
    "    if Pyr_blocks[i+1]!=Pyr_blocks[i]+1:\n",
    "        list_DSD_pyr[block+1]+=1\n",
    "        block = 1\n",
    "    i+=1\n",
    "freq_Pyr = np.sum(list_DSD_pyr)\n",
    "for j in range(len(list_DSD_pyr)):\n",
    "    list_DSD_pyr_freq[j]=list_DSD_pyr[j]/freq_Pyr\n",
    "    vol_Pyr+=list_DSD_pyr[j]*x_array_pyr[j]\n",
    "for k in range(len(list_DSD_pyr)):\n",
    "    list_DSD_pyr_vol[k]=list_DSD_pyr[k]*x_array_pyr[k]/vol_Pyr\n",
    "    \n",
    "sigma_count = np.ones(20)*1.5\n",
    "sigma_count += np.sqrt(list_DSD_pyr)\n",
    "sigma_vol = sigma_count*x_array_pyr/vol_Pyr\n",
    "\n",
    "    \n",
    "\n",
    "i=0\n",
    "block = 1 \n",
    "freq_Ram = 0\n",
    "vol_Ram=0\n",
    "while i<len(Ram_blocks)-1:\n",
    "    if Ram_blocks[i+1]==Ram_blocks[i]+1:\n",
    "        block +=1\n",
    "    if Ram_blocks[i+1]!=Ram_blocks[i]+1:\n",
    "        list_DSD_ram[block+1]+=1\n",
    "        block = 1\n",
    "    i+=1\n",
    "freq_Ram = np.sum(list_DSD_ram)\n",
    "for j in range(len(list_DSD_ram)):\n",
    "    list_DSD_ram_freq[j]=list_DSD_ram[j]/freq_Pyr\n",
    "    vol_Ram+=list_DSD_ram[j]*x_array_ram[j]\n",
    "for k in range(len(list_DSD_ram)):\n",
    "    list_DSD_ram_vol[k]=list_DSD_ram[k]*x_array_ram[k]/vol_Ram\n",
    "\n",
    "print(x_array_pyr)\n",
    "print(list_DSD_ram_vol)\n",
    "\n",
    "plt.plot(x_array_pyr, list_DSD_pyr_vol)\n",
    "plt.plot(x_array_ram, list_DSD_ram_vol)\n",
    "plt.show()"
   ]
  },
  {
   "cell_type": "code",
   "execution_count": null,
   "metadata": {},
   "outputs": [],
   "source": []
  }
 ],
 "metadata": {
  "kernelspec": {
   "display_name": "Python 3",
   "language": "python",
   "name": "python3"
  },
  "language_info": {
   "codemirror_mode": {
    "name": "ipython",
    "version": 3
   },
   "file_extension": ".py",
   "mimetype": "text/x-python",
   "name": "python",
   "nbconvert_exporter": "python",
   "pygments_lexer": "ipython3",
   "version": "3.7.9"
  }
 },
 "nbformat": 4,
 "nbformat_minor": 2
}
