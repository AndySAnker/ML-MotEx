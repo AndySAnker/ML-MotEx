{
 "cells": [
  {
   "cell_type": "markdown",
   "metadata": {},
   "source": [
    "<h1><center> Welcome to step 1 and 2 of ML-MotEx </center></h1>\n",
    "\n",
    "Use this script to generate a organized structure catalogue from a structural starting model, a fitting script and a dataset. This script does only handle Pair Distribution Function (PDF) data but ML-MotEx can in principle handle any data.\n",
    "\n",
    "If you have already fitted the dataset with multiple structures or you have have another type of data than PDF please go on to the next script called \"ML-MotEx-Step3+4.ipynb\" which can help to run step 3+4 of ML-MotEx on all types of data.\n",
    "\n",
    "![alt text](Images/Algorithm_Step3_4.png \"Step1+2\")\n",
    "\n",
    "Be aware that the output of the script (the organized structure catalogue with Rwp values) are set up as follows:\n",
    "\n",
    "| ID | Rwp value | Number of atoms | Atom #1 | Atom #2 | ... | Atom #N |\n",
    "|----|-----------|-----------------|---------|---------|-----|---------|\n",
    "| 1  | 0.55      | 36              | 1       | 0       | ... | 1       |\n",
    "| 2  | 0.23      | 23              | 0       | 1       | ... | 0       |\n",
    "\n",
    "# First import modules, set seed parameters and import functions"
   ]
  },
  {
   "cell_type": "code",
   "execution_count": 1,
   "metadata": {},
   "outputs": [],
   "source": [
    "import numpy as np\n",
    "import matplotlib.pyplot as plt\n",
    "import time, random\n",
    "from scipy.optimize.minpack import leastsq\n",
    "from diffpy.Structure import Structure, Atom\n",
    "from diffpy.srfit.pdf import PDFContribution, PDFParser, PDFGenerator\n",
    "from diffpy.srfit.fitbase import FitRecipe, FitResults, Profile, FitContribution\n",
    "from diffpy.srreal.pdfcalculator import DebyePDFCalculator\n",
    "from multiprocessing import Pool\n",
    "from functools import partial\n",
    "from ase.io import read\n",
    "\n",
    "random.seed(14)\n",
    "np.random.seed(14)"
   ]
  },
  {
   "cell_type": "code",
   "execution_count": 5,
   "metadata": {},
   "outputs": [],
   "source": [
    "def structure_catalogue_maker(Number_of_structures, Number_of_atoms, lower_atom_number, higher_atom_number):\n",
    "    \"\"\"This function makes a shuffled list containing 'Number_of_structures' number of lists which each is \n",
    "    'Number_of_atoms' long and is randomly distributed with 0's and 1's whereas the minimum number of 1's are \n",
    "    'lower_atom_number' and the maximum number of 1's are 'higher_atom_number'.\"\"\"\n",
    "    \n",
    "    print (\"Starting to make a structure catalogue with: \", str(Number_of_structures) + \" structure from the starting model.\")\n",
    "    print (\"The structure will have between \" + str(lower_atom_number) + \" and \" + str(higher_atom_number) + \" atoms\")\n",
    "    structure_catalogue = []\n",
    "    for i in range(Number_of_structures):\n",
    "        one_count = random.randint(lower_atom_number, higher_atom_number)\n",
    "        zero_count = Number_of_atoms  - one_count\n",
    "        my_list = [0]*zero_count + [1]*one_count\n",
    "        random.shuffle(my_list)\n",
    "        my_list.insert(0, one_count)\n",
    "        structure_catalogue.append(my_list)\n",
    "    print (\"Permutations Succeeded\")\n",
    "    return structure_catalogue\n",
    "    \n",
    "def fitting(structure_catalogue, plot, index):\n",
    "    \"\"\"This function takes in a 'starting_model', and an 'index' from the 'structure_catalogue'. It generates the \n",
    "    corresponding structure and fit it to the 'Experimental_Data'.\"\"\"\n",
    "    \n",
    "    # Read structure and divide it into two lists: Atoms we want to iterate (W) and atoms we do not iterate (O)\n",
    "    stru = read(starting_model)\n",
    "    xyz = stru.get_positions()\n",
    "    xyz_W = xyz[:NumW].copy()\n",
    "    xyz_O = xyz[NumW:len(xyz)].copy()\n",
    "    keep_O = np.zeros(len(xyz_O))\n",
    "    h = 0\n",
    "    # Cycle through W atoms and delete W according to index 0's from permutation\n",
    "    permutations = np.asarray(structure_catalogue)[:,1:]\n",
    "    for j in range(len(xyz_W)):\n",
    "        if permutations[index][j] == 0:\n",
    "            xyz_W = np.delete(xyz_W,j - h,0)\n",
    "            h = h+1   \n",
    "    # Cycle through all atoms that is not iteratable and test if it is within the threshold distance. Delete atoms with no bonds\n",
    "    for j in range(len(xyz_O)):        \n",
    "        for k in range(len(xyz_W)):\n",
    "            dist = np.linalg.norm(xyz_W[k] - xyz_O[j])\n",
    "            if dist < threshold:    \n",
    "                keep_O[j] = 1\n",
    "                break\n",
    "    h = 0            \n",
    "    for j in range(len(xyz_O)):\n",
    "        if keep_O[j] == 0:\n",
    "            xyz_O = np.delete(xyz_O,j - h, 0)\n",
    "            h += 1\n",
    "            \n",
    "    # Create structure for iterable (W) and non-iterable (O) atoms and combine them\n",
    "    W_cluster = Structure([Atom('W', xi) for xi in xyz_W])\n",
    "    O_cluster = Structure([Atom('O', xi) for xi in xyz_O])\n",
    "    cluster = W_cluster + O_cluster\n",
    "    \n",
    "    # Make a standard cluster refinement using Diffpy-CMI\n",
    "    # Import the data and make it a PDFprofile. Define the range of the data that will be used in the fit.\n",
    "    pdfprofile = Profile()\n",
    "    pdfparser = PDFParser()\n",
    "    pdfparser.parseFile(Experimental_Data)\n",
    "    pdfprofile.loadParsedData(pdfparser)\n",
    "    pdfprofile.setCalculationRange(xmin = 1.6, xmax = 10)\n",
    "\n",
    "    # Setup the PDFgenerator that calculates the PDF from the structure\n",
    "    pdfgenerator_cluster = PDFGenerator(\"G\")\n",
    "    # Add the profile and both generators to the PDFcontribution\n",
    "    pdfcontribution = FitContribution(\"pdf\")\n",
    "    pdfcontribution.setProfile(pdfprofile, xname=\"r\") \n",
    "    pdfcontribution.addProfileGenerator(pdfgenerator_cluster)\n",
    "    \n",
    "    pdfgenerator_cluster.setQmin(0.7)\n",
    "    pdfgenerator_cluster.setQmax(20)\n",
    "    pdfgenerator_cluster._calc.evaluatortype = 'OPTIMIZED'\n",
    "    pdfgenerator_cluster.setStructure(cluster, periodic = False)\n",
    "\n",
    "    # Use scaling factors proportional to molar content\n",
    "    pdfcontribution.setEquation('mc*G')\n",
    "\n",
    "    # Define the recipe to do the fit and add it to the PDFcontribution\n",
    "    recipe = FitRecipe()\n",
    "    recipe.addContribution(pdfcontribution)\n",
    "\n",
    "    # Avoid too much output during fitting \n",
    "    recipe.clearFitHooks()\n",
    "\n",
    "    # Add the scale factor.\n",
    "    recipe.addVar(pdfcontribution.mc, 1.0, tag = \"scale\")\n",
    "    \n",
    "    # Add the instrumental parameters to the two generators\n",
    "    pdfgenerator_cluster.qdamp.value = 0.05\n",
    "    pdfgenerator_cluster.qbroad.value = 0.01\n",
    "\n",
    "    # Add the delta2 parameters, and make sure it cannot take unphysical values\n",
    "    recipe.addVar(pdfgenerator_cluster.delta2, 0, name = \"delta2_cluster\", tag = \"delta2\")\n",
    "\n",
    "    # Add ADP and \"cell\" for the cluster\n",
    "    phase_cluster = pdfgenerator_cluster.phase\n",
    "    atoms = phase_cluster.getScatterers()\n",
    "    lat = phase_cluster.getLattice()\n",
    "\n",
    "    recipe.newVar(\"zoomscale1\", 1.0, tag = \"lat\")\n",
    "    recipe.newVar(\"zoomscale2\", 1.0, tag = \"lat\")\n",
    "    recipe.newVar(\"zoomscale3\", 1.0, tag = \"lat\")\n",
    "    recipe.constrain(lat.a, 'zoomscale1')\n",
    "    recipe.constrain(lat.b, 'zoomscale2')\n",
    "    recipe.constrain(lat.c, 'zoomscale3')\n",
    "\n",
    "    W_cluster = recipe.newVar(\"W_Biso_cluster1\", 0.4, tag = 'adp_w')\n",
    "    O_cluster = recipe.newVar(\"O_Biso_cluster1\", 0.4, tag = 'adp_o')\n",
    "\n",
    "    for atom in atoms:\n",
    "        if atom.element.title() == \"W\":\n",
    "            recipe.constrain(atom.Biso, W_cluster)\n",
    "        elif atom.element.title() == \"O\":\n",
    "            recipe.constrain(atom.Biso, O_cluster)\n",
    "\n",
    "    recipe.restrain(\"zoomscale1\", lb = 0.99, ub = 1.01, sig = 0.001)\n",
    "    recipe.restrain(\"zoomscale2\", lb = 0.99, ub = 1.01, sig = 0.001)\n",
    "    recipe.restrain(\"zoomscale3\", lb = 0.99, ub = 1.01, sig = 0.001)\n",
    "    \n",
    "    #free parameters are set\n",
    "    recipe.fix('all')\n",
    "    recipe.free(\"scale\", \"lat\")\n",
    "\n",
    "    # Turn off printout of iteration number.\n",
    "    #recipe.clearFitHooks()\n",
    "\n",
    "    # We can now execute the fit using scipy's least square optimizer.\n",
    "    leastsq(recipe.residual, recipe.getValues())\n",
    "    \n",
    "    # We calculate the goodness-of-fit, Rwp\n",
    "    g = recipe.pdf.profile.y\n",
    "    gcalc = recipe.pdf.evaluate()\n",
    "    rfactor1 = np.sqrt(sum((g - gcalc)**2) / sum((g)**2))\n",
    "    \n",
    "    # if plot == 1 it will also plot the fit\n",
    "    if plot == 1:\n",
    "        print (\"FIT RESULTS\\n\")\n",
    "        res1 = FitResults(recipe)\n",
    "        print (res1)\n",
    "\n",
    "        # Plot the observed and refined PDF.\n",
    "        # Get the experimental data from the recipe\n",
    "        r = recipe.pdf.profile.x\n",
    "        gobs = recipe.pdf.profile.y\n",
    "\n",
    "        # Get the calculated PDF and compute the difference between the calculated and measured PDF\n",
    "        gcalc = recipe.pdf.evaluate()\n",
    "        baseline = 1.1 * gobs.min()\n",
    "        gdiff = gobs - gcalc\n",
    "\n",
    "        # Plot!\n",
    "        plt.figure()\n",
    "        plt.plot(r, gobs, 'bo', label=\"G(r) data\")\n",
    "        plt.plot(r, gcalc, 'r-', label=\"G(r) fit\")\n",
    "        plt.plot(r, gdiff + baseline, 'g-', label=\"G(r) diff\")\n",
    "        plt.plot(r, np.zeros_like(r) + baseline, 'k:')\n",
    "        plt.xlabel(r\"$r (\\AA)$\")\n",
    "        plt.ylabel(r\"$G (\\AA^{-2})$\")\n",
    "        plt.legend()\n",
    "\n",
    "        plt.show()\n",
    "    return rfactor1\n",
    "\n",
    "def fitting_multiprocess(structure_catalogue, SaveName, cores=1):\n",
    "    \"\"\"This function runs the refinement of all the structures in the structure catalogue using multiprocessing\"\"\"\n",
    "    start_time = time.time()\n",
    "    values = []\n",
    "    # Set up multiprocessing refinement\n",
    "    fitindex = range(len(structure_catalogue))\n",
    "    p = Pool(processes=cores)\n",
    "    plot = 0\n",
    "    func = partial(fitting, structure_catalogue, plot)\n",
    "    results = p.map(func, fitindex)\n",
    "    p.close()\n",
    "    p.join()\n",
    "    \n",
    "    # Start refinement and append results to lists\n",
    "    for i in fitindex:\n",
    "        if i % 100 == 0:\n",
    "            print (\"I have now fitted: \", str(i) + \" structures out of \" + str(len(structure_catalogue)))\n",
    "        rw = results[i]\n",
    "        values.append(i)\n",
    "        values.append(rw)\n",
    "    values = np.reshape(values,(int(len(values)/2) , 2))\n",
    "    \n",
    "    # Save results in format that is suitable for Machine Learning\n",
    "    print (\"Best fit\")\n",
    "    print (values[np.argmin(values[:,1])])\n",
    "    print(\"Total execution time: %.3fs\" % (time.time()-start_time))\n",
    "    Result = np.column_stack([values, np.asarray(structure_catalogue)[values[:,0].astype(int)]])\n",
    "    np.savetxt(SaveName, Result)\n",
    "    return Result\n",
    "\n"
   ]
  },
  {
   "cell_type": "markdown",
   "metadata": {},
   "source": [
    "# Step 1: Produce a catalogue of structure motifs\n",
    "### First define the starting model, how large the structure catalogue has to be, number of iterable atoms and threshold between iterable atoms and non-iterable atoms."
   ]
  },
  {
   "cell_type": "code",
   "execution_count": 6,
   "metadata": {},
   "outputs": [],
   "source": [
    "starting_model = \"Structure_Models/109725.xyz\" # Name of the starting model file\n",
    "Number_of_structures = 10000 # Number of structures made to the structure catalogue\n",
    "NumW = 24 # Number of atoms that should be permuted in the starting model\n",
    "threshold = 2.5 # Thredshold for W - O bond\n"
   ]
  },
  {
   "cell_type": "markdown",
   "metadata": {},
   "source": [
    "### Produce a catalogue of structure motifs"
   ]
  },
  {
   "cell_type": "code",
   "execution_count": 7,
   "metadata": {},
   "outputs": [
    {
     "name": "stdout",
     "output_type": "stream",
     "text": [
      "Starting to make a structure catalogue with:  10000 structure from the starting model.\n",
      "The structure will have between 0 and 24 atoms\n",
      "Permutations Succeeded\n",
      "We show the first 10 structures in the catalogue:\n"
     ]
    },
    {
     "data": {
      "text/plain": [
       "[[3, 0, 0, 0, 0, 0, 0, 0, 0, 1, 0, 0, 0, 0, 1, 0, 0, 0, 0, 0, 0, 0, 0, 1, 0],\n",
       " [20, 1, 1, 1, 1, 1, 1, 1, 1, 0, 1, 1, 1, 1, 1, 0, 0, 0, 1, 1, 1, 1, 1, 1, 1],\n",
       " [18, 1, 1, 0, 0, 1, 1, 0, 1, 1, 1, 1, 1, 1, 1, 0, 1, 1, 1, 0, 0, 1, 1, 1, 1],\n",
       " [0, 0, 0, 0, 0, 0, 0, 0, 0, 0, 0, 0, 0, 0, 0, 0, 0, 0, 0, 0, 0, 0, 0, 0, 0],\n",
       " [14, 1, 0, 1, 0, 1, 1, 1, 0, 0, 0, 1, 1, 0, 1, 1, 0, 1, 0, 1, 0, 1, 0, 1, 1],\n",
       " [8, 0, 0, 1, 0, 0, 0, 0, 1, 0, 1, 1, 0, 0, 1, 0, 1, 1, 0, 0, 0, 0, 1, 0, 0],\n",
       " [6, 0, 1, 0, 1, 0, 0, 1, 0, 1, 0, 0, 0, 0, 0, 0, 0, 0, 0, 0, 0, 0, 0, 1, 1],\n",
       " [15, 1, 1, 1, 1, 1, 0, 1, 1, 0, 1, 1, 1, 1, 0, 1, 1, 1, 0, 0, 0, 0, 0, 0, 1],\n",
       " [14, 1, 0, 0, 1, 1, 1, 1, 1, 1, 1, 1, 1, 1, 0, 0, 0, 1, 1, 0, 1, 0, 0, 0, 0],\n",
       " [3, 0, 1, 0, 0, 0, 0, 0, 0, 0, 0, 0, 0, 1, 0, 0, 0, 0, 1, 0, 0, 0, 0, 0, 0]]"
      ]
     },
     "execution_count": 7,
     "metadata": {},
     "output_type": "execute_result"
    }
   ],
   "source": [
    "structure_catalogue = structure_catalogue_maker(Number_of_structures, Number_of_atoms=NumW, lower_atom_number=0, higher_atom_number=NumW)\n",
    "print (\"We show the first 10 structures in the catalogue:\")\n",
    "structure_catalogue[:10]\n"
   ]
  },
  {
   "cell_type": "markdown",
   "metadata": {},
   "source": [
    "# Step 2: Fit all of the structures from the catalogue of structure motifs to the dataset\n",
    "### First define the experimental data path and the path you want the structure catalogue with fits to be saved"
   ]
  },
  {
   "cell_type": "code",
   "execution_count": 12,
   "metadata": {},
   "outputs": [],
   "source": [
    "Experimental_Data = \"Experimental_Data/DanMAX_AlphaKeggin.gr\" # Name of the experimental file\n",
    "saveFits = \"Training_Data/structure_109725.txt\" # Name of the saved fits file\n"
   ]
  },
  {
   "cell_type": "markdown",
   "metadata": {},
   "source": [
    "### Produce organized structure catalogue with Rwp values"
   ]
  },
  {
   "cell_type": "code",
   "execution_count": 13,
   "metadata": {},
   "outputs": [
    {
     "name": "stdout",
     "output_type": "stream",
     "text": [
      "I have now fitted:  0 structures out of 10000\n",
      "I have now fitted:  100 structures out of 10000\n",
      "I have now fitted:  200 structures out of 10000\n",
      "I have now fitted:  300 structures out of 10000\n",
      "I have now fitted:  400 structures out of 10000\n",
      "I have now fitted:  500 structures out of 10000\n",
      "I have now fitted:  600 structures out of 10000\n",
      "I have now fitted:  700 structures out of 10000\n",
      "I have now fitted:  800 structures out of 10000\n",
      "I have now fitted:  900 structures out of 10000\n",
      "I have now fitted:  1000 structures out of 10000\n",
      "I have now fitted:  1100 structures out of 10000\n",
      "I have now fitted:  1200 structures out of 10000\n",
      "I have now fitted:  1300 structures out of 10000\n",
      "I have now fitted:  1400 structures out of 10000\n",
      "I have now fitted:  1500 structures out of 10000\n",
      "I have now fitted:  1600 structures out of 10000\n",
      "I have now fitted:  1700 structures out of 10000\n",
      "I have now fitted:  1800 structures out of 10000\n",
      "I have now fitted:  1900 structures out of 10000\n",
      "I have now fitted:  2000 structures out of 10000\n",
      "I have now fitted:  2100 structures out of 10000\n",
      "I have now fitted:  2200 structures out of 10000\n",
      "I have now fitted:  2300 structures out of 10000\n",
      "I have now fitted:  2400 structures out of 10000\n",
      "I have now fitted:  2500 structures out of 10000\n",
      "I have now fitted:  2600 structures out of 10000\n",
      "I have now fitted:  2700 structures out of 10000\n",
      "I have now fitted:  2800 structures out of 10000\n",
      "I have now fitted:  2900 structures out of 10000\n",
      "I have now fitted:  3000 structures out of 10000\n",
      "I have now fitted:  3100 structures out of 10000\n",
      "I have now fitted:  3200 structures out of 10000\n",
      "I have now fitted:  3300 structures out of 10000\n",
      "I have now fitted:  3400 structures out of 10000\n",
      "I have now fitted:  3500 structures out of 10000\n",
      "I have now fitted:  3600 structures out of 10000\n",
      "I have now fitted:  3700 structures out of 10000\n",
      "I have now fitted:  3800 structures out of 10000\n",
      "I have now fitted:  3900 structures out of 10000\n",
      "I have now fitted:  4000 structures out of 10000\n",
      "I have now fitted:  4100 structures out of 10000\n",
      "I have now fitted:  4200 structures out of 10000\n",
      "I have now fitted:  4300 structures out of 10000\n",
      "I have now fitted:  4400 structures out of 10000\n",
      "I have now fitted:  4500 structures out of 10000\n",
      "I have now fitted:  4600 structures out of 10000\n",
      "I have now fitted:  4700 structures out of 10000\n",
      "I have now fitted:  4800 structures out of 10000\n",
      "I have now fitted:  4900 structures out of 10000\n",
      "I have now fitted:  5000 structures out of 10000\n",
      "I have now fitted:  5100 structures out of 10000\n",
      "I have now fitted:  5200 structures out of 10000\n",
      "I have now fitted:  5300 structures out of 10000\n",
      "I have now fitted:  5400 structures out of 10000\n",
      "I have now fitted:  5500 structures out of 10000\n",
      "I have now fitted:  5600 structures out of 10000\n",
      "I have now fitted:  5700 structures out of 10000\n",
      "I have now fitted:  5800 structures out of 10000\n",
      "I have now fitted:  5900 structures out of 10000\n",
      "I have now fitted:  6000 structures out of 10000\n",
      "I have now fitted:  6100 structures out of 10000\n",
      "I have now fitted:  6200 structures out of 10000\n",
      "I have now fitted:  6300 structures out of 10000\n",
      "I have now fitted:  6400 structures out of 10000\n",
      "I have now fitted:  6500 structures out of 10000\n",
      "I have now fitted:  6600 structures out of 10000\n",
      "I have now fitted:  6700 structures out of 10000\n",
      "I have now fitted:  6800 structures out of 10000\n",
      "I have now fitted:  6900 structures out of 10000\n",
      "I have now fitted:  7000 structures out of 10000\n",
      "I have now fitted:  7100 structures out of 10000\n",
      "I have now fitted:  7200 structures out of 10000\n",
      "I have now fitted:  7300 structures out of 10000\n",
      "I have now fitted:  7400 structures out of 10000\n",
      "I have now fitted:  7500 structures out of 10000\n",
      "I have now fitted:  7600 structures out of 10000\n",
      "I have now fitted:  7700 structures out of 10000\n",
      "I have now fitted:  7800 structures out of 10000\n",
      "I have now fitted:  7900 structures out of 10000\n",
      "I have now fitted:  8000 structures out of 10000\n",
      "I have now fitted:  8100 structures out of 10000\n",
      "I have now fitted:  8200 structures out of 10000\n",
      "I have now fitted:  8300 structures out of 10000\n",
      "I have now fitted:  8400 structures out of 10000\n",
      "I have now fitted:  8500 structures out of 10000\n",
      "I have now fitted:  8600 structures out of 10000\n",
      "I have now fitted:  8700 structures out of 10000\n",
      "I have now fitted:  8800 structures out of 10000\n",
      "I have now fitted:  8900 structures out of 10000\n",
      "I have now fitted:  9000 structures out of 10000\n",
      "I have now fitted:  9100 structures out of 10000\n",
      "I have now fitted:  9200 structures out of 10000\n",
      "I have now fitted:  9300 structures out of 10000\n",
      "I have now fitted:  9400 structures out of 10000\n",
      "I have now fitted:  9500 structures out of 10000\n",
      "I have now fitted:  9600 structures out of 10000\n",
      "I have now fitted:  9700 structures out of 10000\n",
      "I have now fitted:  9800 structures out of 10000\n",
      "I have now fitted:  9900 structures out of 10000\n",
      "Best fit\n",
      "[1.64900000e+03 4.93678199e-01]\n",
      "Total execution time: 1215.553s\n",
      "The best fitting structure is:\n"
     ]
    },
    {
     "data": {
      "text/plain": [
       "array([1.64900000e+03, 4.93678199e-01, 1.20000000e+01, 1.00000000e+00,\n",
       "       0.00000000e+00, 1.00000000e+00, 0.00000000e+00, 1.00000000e+00,\n",
       "       1.00000000e+00, 1.00000000e+00, 0.00000000e+00, 0.00000000e+00,\n",
       "       0.00000000e+00, 1.00000000e+00, 0.00000000e+00, 1.00000000e+00,\n",
       "       0.00000000e+00, 1.00000000e+00, 0.00000000e+00, 1.00000000e+00,\n",
       "       1.00000000e+00, 1.00000000e+00, 0.00000000e+00, 0.00000000e+00,\n",
       "       0.00000000e+00, 1.00000000e+00, 0.00000000e+00])"
      ]
     },
     "execution_count": 13,
     "metadata": {},
     "output_type": "execute_result"
    }
   ],
   "source": [
    "Result = fitting_multiprocess(structure_catalogue, SaveName=saveFits, cores=None)\n",
    "print (\"The best fitting structure is:\")\n",
    "Result[np.argmin(Result[:,1])]\n"
   ]
  },
  {
   "cell_type": "markdown",
   "metadata": {},
   "source": [
    "\n",
    "# Extra\n",
    "\n",
    "\n",
    "\n",
    "\n",
    "### We can see that the best fitting structure has 21 atoms as also shown above. This is not the alpha-Keggin cluster which has 12 atoms. However, we can fit this structure to the experimental dataset:"
   ]
  },
  {
   "cell_type": "code",
   "execution_count": 14,
   "metadata": {},
   "outputs": [
    {
     "name": "stdout",
     "output_type": "stream",
     "text": [
      "FIT RESULTS\n",
      "\n",
      "Some quantities invalid due to missing profile uncertainty\n",
      "Overall (Chi2 and Reduced Chi2 invalid)\n",
      "------------------------------------------------------------------------------\n",
      "Residual       847.39819268\n",
      "Contributions  839.53137411\n",
      "Restraints     7.86681858\n",
      "Chi2           839.53137411\n",
      "Reduced Chi2   0.99944211\n",
      "Rw             0.49367819\n",
      "\n",
      "Variables (Uncertainties invalid)\n",
      "------------------------------------------------------------------------------\n",
      "mc          1.68778474e+00 +/- 3.31033390e-02\n",
      "zoomscale1  9.88845799e-01 +/- 9.10737300e-04\n",
      "zoomscale2  9.88946513e-01 +/- 9.15772038e-04\n",
      "zoomscale3  9.87670889e-01 +/- 9.18977151e-04\n",
      "\n",
      "Fixed Variables\n",
      "------------------------------------------------------------------------------\n",
      "O_Biso_cluster1  4.00000000e-01\n",
      "W_Biso_cluster1  4.00000000e-01\n",
      "delta2_cluster   0.00000000e+00\n",
      "\n",
      "Variable Correlations greater than 25% (Correlations invalid)\n",
      "------------------------------------------------------------------------------\n",
      "No correlations greater than 25%\n",
      "\n"
     ]
    },
    {
     "data": {
      "image/png": "[encoded data removed]",
      "text/plain": [
       "<Figure size 432x288 with 1 Axes>"
      ]
     },
     "metadata": {
      "needs_background": "light"
     },
     "output_type": "display_data"
    }
   ],
   "source": [
    "fitting(structure_catalogue, plot=1, index=np.argmin(Result[:,1]));"
   ]
  },
  {
   "cell_type": "markdown",
   "metadata": {},
   "source": [
    "## We can compare the result with the result found using ML-MotEx in the script ML-MotEx-Step3+4"
   ]
  },
  {
   "cell_type": "code",
   "execution_count": 15,
   "metadata": {},
   "outputs": [
    {
     "name": "stdout",
     "output_type": "stream",
     "text": [
      "FIT RESULTS\n",
      "\n",
      "Some quantities invalid due to missing profile uncertainty\n",
      "Overall (Chi2 and Reduced Chi2 invalid)\n",
      "------------------------------------------------------------------------------\n",
      "Residual       787.00935220\n",
      "Contributions  783.72495827\n",
      "Restraints     3.28439394\n",
      "Chi2           783.72495827\n",
      "Reduced Chi2   0.93300590\n",
      "Rw             0.47698784\n",
      "\n",
      "Variables (Uncertainties invalid)\n",
      "------------------------------------------------------------------------------\n",
      "mc          1.24411557e+00 +/- 2.41287982e-02\n",
      "zoomscale1  9.89390417e-01 +/- 9.14606639e-04\n",
      "zoomscale2  9.89390417e-01 +/- 9.14606638e-04\n",
      "zoomscale3  9.88405893e-01 +/- 9.12011545e-04\n",
      "\n",
      "Fixed Variables\n",
      "------------------------------------------------------------------------------\n",
      "O_Biso_cluster1  4.00000000e-01\n",
      "W_Biso_cluster1  4.00000000e-01\n",
      "delta2_cluster   0.00000000e+00\n",
      "\n",
      "Variable Correlations greater than 25% (Correlations invalid)\n",
      "------------------------------------------------------------------------------\n",
      "No correlations greater than 25%\n",
      "\n"
     ]
    },
    {
     "data": {
      "image/png": "[encoded data removed]",
      "text/plain": [
       "<Figure size 432x288 with 1 Axes>"
      ]
     },
     "metadata": {
      "needs_background": "light"
     },
     "output_type": "display_data"
    }
   ],
   "source": [
    "fitting([[12,1,0,1,0,1,0,1,0,1,0,1,0,1,0,1,0,1,0,1,0,1,0,1,0]], plot=1, index=0);"
   ]
  },
  {
   "cell_type": "markdown",
   "metadata": {},
   "source": [
    "# We can also visualize the number of atoms vs. the Rwp value"
   ]
  },
  {
   "cell_type": "code",
   "execution_count": 16,
   "metadata": {},
   "outputs": [
    {
     "data": {
      "image/png": "[encoded data removed]",
      "text/plain": [
       "<Figure size 432x288 with 1 Axes>"
      ]
     },
     "metadata": {
      "needs_background": "light"
     },
     "output_type": "display_data"
    }
   ],
   "source": [
    "plt.plot(Result[:,2], Result[:,1], \"o\")\n",
    "plt.xlabel(\"Number of atoms\")\n",
    "plt.ylabel(\"Rwp value\")\n",
    "plt.show()"
   ]
  },
  {
   "cell_type": "code",
   "execution_count": null,
   "metadata": {},
   "outputs": [],
   "source": []
  }
 ],
 "metadata": {
  "kernelspec": {
   "display_name": "Python 3",
   "language": "python",
   "name": "python3"
  },
  "language_info": {
   "codemirror_mode": {
    "name": "ipython",
    "version": 3
   },
   "file_extension": ".py",
   "mimetype": "text/x-python",
   "name": "python",
   "nbconvert_exporter": "python",
   "pygments_lexer": "ipython3",
   "version": "3.7.9"
  }
 },
 "nbformat": 4,
 "nbformat_minor": 2
}
